{
    "cells": [
        {
            "metadata": {
                "collapsed": true
            },
            "cell_type": "markdown",
            "source": "# Segmenting and Clustering Neighborhoods in Toronto"
        },
        {
            "metadata": {},
            "cell_type": "markdown",
            "source": "## Assignment Instructions:"
        },
        {
            "metadata": {},
            "cell_type": "markdown",
            "source": "In this assignment, you will be required to explore, segment, and cluster the neighborhoods in the city of Toronto. However, unlike New York, the neighborhood data is not readily available on the internet. What is interesting about the field of data science is that each project can be challenging in its unique way, so you need to learn to be agile and refine the skill to learn new libraries and tools quickly depending on the project.\n\nFor the Toronto neighborhood data, a Wikipedia page exists that has all the information we need to explore and cluster the neighborhoods in Toronto. You will be required to scrape the Wikipedia page and wrangle the data, clean it, and then read it into a pandas dataframe so that it is in a structured format like the New York dataset.\n\nOnce the data is in a structured format, you can replicate the analysis that we did to the New York City dataset to explore and cluster the neighborhoods in the city of Toronto.\n\nYour submission will be a link to your Jupyter Notebook on your Github repository."
        },
        {
            "metadata": {},
            "cell_type": "markdown",
            "source": "## Web Scraping:"
        },
        {
            "metadata": {},
            "cell_type": "code",
            "source": "import pandas as pd\nimport numpy as np\nimport requests\nfrom bs4 import BeautifulSoup\n\nrawdata = requests.get('https://en.wikipedia.org/wiki/List_of_postal_codes_of_Canada:_M').text\nsoup = BeautifulSoup(rawdata,'lxml')\n\ndata = []\ncolumns = []\ntable = soup.find(class_='wikitable')\nfor index, tr in enumerate(table.find_all('tr')):\n    section = []\n    for td in tr.find_all(['th','td']):\n        section.append(td.text.rstrip())\n    \n    if (index == 0):\n        columns = section\n    else:\n        data.append(section)",
            "execution_count": null,
            "outputs": []
        },
        {
            "metadata": {},
            "cell_type": "markdown",
            "source": "## Dataframe Creation:"
        },
        {
            "metadata": {},
            "cell_type": "code",
            "source": "\n#convert list into Pandas DataFrame\ntoronto_df = pd.DataFrame(data = data,columns = columns)\n\ntoronto_df.head()\n",
            "execution_count": null,
            "outputs": []
        },
        {
            "metadata": {},
            "cell_type": "markdown",
            "source": "## Dataframe Formatting:"
        },
        {
            "metadata": {},
            "cell_type": "markdown",
            "source": "Remove Boroughs that are 'Not assigned'"
        },
        {
            "metadata": {},
            "cell_type": "code",
            "source": "toronto_df = toronto_df[toronto_df['Borough'] != 'Not assigned']\ntoronto_df.head()",
            "execution_count": null,
            "outputs": []
        },
        {
            "metadata": {},
            "cell_type": "markdown",
            "source": "\nFor neighbourhoods that are \"Not assigned\", apply their Borough as their Neighbourhood"
        },
        {
            "metadata": {},
            "cell_type": "code",
            "source": "toronto_df['Neighbourhood'].replace(\"Not assigned\", toronto_df[\"Borough\"],inplace=True)\ntoronto_df.head()",
            "execution_count": null,
            "outputs": []
        },
        {
            "metadata": {},
            "cell_type": "markdown",
            "source": "\nGroup all neighborhoods with the same postal code"
        },
        {
            "metadata": {},
            "cell_type": "code",
            "source": "toronto_df = toronto_df.groupby([\"Postal Code\", \"Borough\"])[\"Neighbourhood\"].apply(\", \".join).reset_index()\ntoronto_df.head()",
            "execution_count": null,
            "outputs": []
        },
        {
            "metadata": {},
            "cell_type": "markdown",
            "source": "## Final Dataframe Shape:"
        },
        {
            "metadata": {},
            "cell_type": "code",
            "source": "toronto_df.head()\n\nprint(\"Shape:\", toronto_df.shape)",
            "execution_count": null,
            "outputs": []
        },
        {
            "metadata": {},
            "cell_type": "markdown",
            "source": "---"
        },
        {
            "metadata": {},
            "cell_type": "markdown",
            "source": "## Retrieving Longitude and Latitude Coordinates:"
        },
        {
            "metadata": {},
            "cell_type": "code",
            "source": "geo_df = pd.read_csv(\"https://ibm.box.com/public/static/9afzr83pps4pwf2smjjcf1y5mvgb18rr.csv\")\ngeo_df.head()",
            "execution_count": null,
            "outputs": []
        },
        {
            "metadata": {},
            "cell_type": "markdown",
            "source": "Merge Neigbourhood and Latitude/Logitude Data"
        },
        {
            "metadata": {},
            "cell_type": "code",
            "source": "TorGeo_df = pd.merge(toronto_df, geo_df, how='left', left_on = 'Postal Code', right_on = 'Postal Code')\nTorGeo_df.head()",
            "execution_count": null,
            "outputs": []
        },
        {
            "metadata": {},
            "cell_type": "markdown",
            "source": "---"
        },
        {
            "metadata": {},
            "cell_type": "markdown",
            "source": "## Analyzing and Clustering Toronto Data:"
        },
        {
            "metadata": {},
            "cell_type": "code",
            "source": "!conda install -c conda-forge folium=0.5.0 --yes ",
            "execution_count": null,
            "outputs": []
        },
        {
            "metadata": {},
            "cell_type": "code",
            "source": "import folium\nfrom geopy.geocoders import Nominatim \nfrom pandas.io.json import json_normalize ",
            "execution_count": null,
            "outputs": []
        },
        {
            "metadata": {},
            "cell_type": "code",
            "source": "address = \"Toronto, ON\"\n\ngeolocator = Nominatim(user_agent=\"toronto_explorer\")\nlocation = geolocator.geocode(address)\nlatitude = location.latitude\nlongitude = location.longitude\nprint('The geograpical coordinate of Toronto city are {}, {}.'.format(latitude, longitude))",
            "execution_count": null,
            "outputs": []
        },
        {
            "metadata": {},
            "cell_type": "code",
            "source": "# create map of Toronto using latitude and longitude values\nmap_toronto = folium.Map(location=[latitude, longitude], zoom_start=10)\nmap_toronto",
            "execution_count": null,
            "outputs": []
        },
        {
            "metadata": {},
            "cell_type": "code",
            "source": "",
            "execution_count": null,
            "outputs": []
        },
        {
            "metadata": {},
            "cell_type": "code",
            "source": "",
            "execution_count": null,
            "outputs": []
        }
    ],
    "metadata": {
        "kernelspec": {
            "name": "python3",
            "display_name": "Python 3.7",
            "language": "python"
        },
        "language_info": {
            "name": "python",
            "version": "3.7.9",
            "mimetype": "text/x-python",
            "codemirror_mode": {
                "name": "ipython",
                "version": 3
            },
            "pygments_lexer": "ipython3",
            "nbconvert_exporter": "python",
            "file_extension": ".py"
        }
    },
    "nbformat": 4,
    "nbformat_minor": 1
}